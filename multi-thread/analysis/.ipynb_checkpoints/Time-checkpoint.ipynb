{
 "cells": [
  {
   "cell_type": "code",
   "execution_count": 1,
   "metadata": {},
   "outputs": [],
   "source": [
    "import pandas as pd\n",
    "import matplotlib.pyplot as plt\n",
    "%matplotlib inline"
   ]
  },
  {
   "cell_type": "code",
   "execution_count": 14,
   "metadata": {},
   "outputs": [],
   "source": [
    "metrics = ['f1', 'recall', 'cost', 'precision', 'accuracy']\n",
    "paths = {\n",
    "    'size-scalability': '../results/size-scalability',\n",
    "    'epoch-scalability': '../results/epoch-scalability'\n",
    "}\n",
    "\n",
    "prefix = 'time'\n",
    "experiments = {k:{} for k in paths}"
   ]
  },
  {
   "cell_type": "code",
   "execution_count": 15,
   "metadata": {},
   "outputs": [
    {
     "data": {
      "text/plain": [
       "[4946, 4951, 4950, 4950, 4952]"
      ]
     },
     "execution_count": 15,
     "metadata": {},
     "output_type": "execute_result"
    }
   ],
   "source": [
    "def process_time(file):\n",
    "    with open(file) as time_file:\n",
    "        lines = time_file.readlines()\n",
    "        \"\"\"        lines = [line.strip() for line in lines if len(line) > 2]\n",
    "        times = {\n",
    "            'sys':[line for line in lines if 'sys' in line],\n",
    "            'user' : [line for line in lines if 'user' in line],\n",
    "            'real': [line for line in lines if 'real' in line]\n",
    "        }\n",
    "        \n",
    "        for key in times:\n",
    "            values = times[key]\n",
    "            values = [v.split('\\t')[1] for v in values]\n",
    "            values = [float(v.split('m')[0])*60 + float(v.split('m')[1][:-1].replace(',', '.')) for v in values]\n",
    "            times[key] = values\"\"\"\n",
    "    return [int(time) for time in lines]\n",
    "process_time(\"/home/dcandrade/Documents/Subjects/Computação de Alto Desempenho/hpc-facial-expression-recognition/results/size-scalability/500/time.txt\")"
   ]
  },
  {
   "cell_type": "code",
   "execution_count": 16,
   "metadata": {},
   "outputs": [],
   "source": [
    "from os import walk\n",
    "for experiment_type in paths:\n",
    "    for (dirpath, dirnames, filenames) in walk(paths[experiment_type]):\n",
    "        for file in filenames:\n",
    "            if file.startswith(prefix):\n",
    "                subtype = dirpath.split('/')[-1]\n",
    "                experiment_file = paths[experiment_type]+'/'+subtype+'/'+file\n",
    "                subtype_files = experiments[experiment_type].get(subtype,[])\n",
    "                #subtype_files.append(pd.read_csv(experiment_file, header=0))\n",
    "                experiments[experiment_type][subtype] = process_time(experiment_file)"
   ]
  },
  {
   "cell_type": "code",
   "execution_count": 17,
   "metadata": {},
   "outputs": [],
   "source": [
    "size_df = pd.DataFrame(experiments['size-scalability']).transpose().rename(index={\"500\":592, \"2k\":2092, \"4k\":4092, \"8k\":8092, \"1k\":1092}).sort_index()\n",
    "epochs_df = pd.DataFrame(experiments['epoch-scalability']).transpose().rename(index=int)"
   ]
  },
  {
   "cell_type": "code",
   "execution_count": 18,
   "metadata": {},
   "outputs": [
    {
     "data": {
      "text/html": [
       "<div>\n",
       "<style scoped>\n",
       "    .dataframe tbody tr th:only-of-type {\n",
       "        vertical-align: middle;\n",
       "    }\n",
       "\n",
       "    .dataframe tbody tr th {\n",
       "        vertical-align: top;\n",
       "    }\n",
       "\n",
       "    .dataframe thead th {\n",
       "        text-align: right;\n",
       "    }\n",
       "</style>\n",
       "<table border=\"1\" class=\"dataframe\">\n",
       "  <thead>\n",
       "    <tr style=\"text-align: right;\">\n",
       "      <th></th>\n",
       "      <th>Tempo (s)</th>\n",
       "    </tr>\n",
       "  </thead>\n",
       "  <tbody>\n",
       "    <tr>\n",
       "      <th>592</th>\n",
       "      <td>[4950, 4950, 4951]</td>\n",
       "    </tr>\n",
       "    <tr>\n",
       "      <th>1092</th>\n",
       "      <td>[6393, 6427, 6460]</td>\n",
       "    </tr>\n",
       "    <tr>\n",
       "      <th>2092</th>\n",
       "      <td>[8810, 8838, 8855]</td>\n",
       "    </tr>\n",
       "    <tr>\n",
       "      <th>4092</th>\n",
       "      <td>[14797, 14803, 14833]</td>\n",
       "    </tr>\n",
       "    <tr>\n",
       "      <th>8092</th>\n",
       "      <td>[26173, 26184, 26210]</td>\n",
       "    </tr>\n",
       "  </tbody>\n",
       "</table>\n",
       "</div>"
      ],
      "text/plain": [
       "                  Tempo (s)\n",
       "592      [4950, 4950, 4951]\n",
       "1092     [6393, 6427, 6460]\n",
       "2092     [8810, 8838, 8855]\n",
       "4092  [14797, 14803, 14833]\n",
       "8092  [26173, 26184, 26210]"
      ]
     },
     "execution_count": 18,
     "metadata": {},
     "output_type": "execute_result"
    }
   ],
   "source": [
    "size_df = pd.DataFrame(size_df.apply(sorted, axis=1))\n",
    "size_df = size_df.applymap(lambda x: x[1:-1]).rename(columns={0:'Tempo (s)'}).sort_index()\n",
    "size_df"
   ]
  },
  {
   "cell_type": "code",
   "execution_count": 19,
   "metadata": {},
   "outputs": [
    {
     "data": {
      "image/png": "[encoded data removed]",
      "text/plain": [
       "<Figure size 432x288 with 1 Axes>"
      ]
     },
     "metadata": {},
     "output_type": "display_data"
    }
   ],
   "source": [
    "plot = size_df.applymap(pd.np.average).plot(legend=False)\n",
    "plot.set_title(\"Escalabilidade\\nTempo de Execução Variando o Tamanho do Conjunto de Treino\")\n",
    "plot.set_xlabel(\"Tamanho do Dataset\")\n",
    "plot.set_ylabel(\"Tempo (ms)\")\n",
    "plt.savefig(paths['size-scalability']+\"/size-scalability.eps\", format='eps')"
   ]
  },
  {
   "cell_type": "code",
   "execution_count": 24,
   "metadata": {},
   "outputs": [
    {
     "data": {
      "text/plain": [
       "Int64Index([592, 1092, 2092, 4092, 8092], dtype='int64')"
      ]
     },
     "execution_count": 24,
     "metadata": {},
     "output_type": "execute_result"
    }
   ],
   "source": [
    "stats = size_df.applymap(pd.np.average)\n",
    "stats['std'] = size_df.applymap(pd.np.std)\n",
    "stats.index"
   ]
  },
  {
   "cell_type": "code",
   "execution_count": 39,
   "metadata": {},
   "outputs": [
    {
     "data": {
      "text/plain": [
       "array([2.83793996])"
      ]
     },
     "execution_count": 39,
     "metadata": {},
     "output_type": "execute_result"
    }
   ],
   "source": [
    "from sklearn import linear_model\n",
    "lm = linear_model.LinearRegression()\n",
    "model = lm.fit(pd.np.array(stats.index.tolist()).reshape(-1, 1),stats['Tempo (s)'])\n",
    "model.coef_"
   ]
  },
  {
   "cell_type": "code",
   "execution_count": 20,
   "metadata": {},
   "outputs": [
    {
     "data": {
      "text/html": [
       "<div>\n",
       "<style scoped>\n",
       "    .dataframe tbody tr th:only-of-type {\n",
       "        vertical-align: middle;\n",
       "    }\n",
       "\n",
       "    .dataframe tbody tr th {\n",
       "        vertical-align: top;\n",
       "    }\n",
       "\n",
       "    .dataframe thead th {\n",
       "        text-align: right;\n",
       "    }\n",
       "</style>\n",
       "<table border=\"1\" class=\"dataframe\">\n",
       "  <thead>\n",
       "    <tr style=\"text-align: right;\">\n",
       "      <th></th>\n",
       "      <th>Tempo (s)</th>\n",
       "    </tr>\n",
       "  </thead>\n",
       "  <tbody>\n",
       "    <tr>\n",
       "      <th>25</th>\n",
       "      <td>[9625, 9625, 9627]</td>\n",
       "    </tr>\n",
       "    <tr>\n",
       "      <th>50</th>\n",
       "      <td>[14323, 15178, 15899]</td>\n",
       "    </tr>\n",
       "    <tr>\n",
       "      <th>100</th>\n",
       "      <td>[26184, 26204, 26226]</td>\n",
       "    </tr>\n",
       "    <tr>\n",
       "      <th>200</th>\n",
       "      <td>[48262, 48288, 48334]</td>\n",
       "    </tr>\n",
       "    <tr>\n",
       "      <th>400</th>\n",
       "      <td>[92487, 92561, 92628]</td>\n",
       "    </tr>\n",
       "  </tbody>\n",
       "</table>\n",
       "</div>"
      ],
      "text/plain": [
       "                 Tempo (s)\n",
       "25      [9625, 9625, 9627]\n",
       "50   [14323, 15178, 15899]\n",
       "100  [26184, 26204, 26226]\n",
       "200  [48262, 48288, 48334]\n",
       "400  [92487, 92561, 92628]"
      ]
     },
     "execution_count": 20,
     "metadata": {},
     "output_type": "execute_result"
    }
   ],
   "source": [
    "epochs_df = pd.DataFrame(epochs_df.apply(sorted, axis=1))\n",
    "epochs_df = epochs_df.applymap(lambda x: x[1:-1]).rename(columns={0:'Tempo (s)'}).sort_index()\n",
    "epochs_df"
   ]
  },
  {
   "cell_type": "code",
   "execution_count": 21,
   "metadata": {},
   "outputs": [
    {
     "data": {
      "image/png": "[encoded data removed]",
      "text/plain": [
       "<Figure size 432x288 with 1 Axes>"
      ]
     },
     "metadata": {},
     "output_type": "display_data"
    }
   ],
   "source": [
    "plot = epochs_df.applymap(pd.np.average).plot(legend=False)\n",
    "plot.set_title(\"Escalabilidade\\nTempo de Execução Variando o Número de Épocas de Treinamento\")\n",
    "plot.set_xlabel(\"# Número de Épocas\")\n",
    "plot.set_ylabel(\"Tempo (ms)\")\n",
    "plt.savefig(paths['epoch-scalability']+\"/epoch-scalability.eps\", format='eps')"
   ]
  },
  {
   "cell_type": "code",
   "execution_count": 22,
   "metadata": {},
   "outputs": [
    {
     "data": {
      "text/html": [
       "<div>\n",
       "<style scoped>\n",
       "    .dataframe tbody tr th:only-of-type {\n",
       "        vertical-align: middle;\n",
       "    }\n",
       "\n",
       "    .dataframe tbody tr th {\n",
       "        vertical-align: top;\n",
       "    }\n",
       "\n",
       "    .dataframe thead th {\n",
       "        text-align: right;\n",
       "    }\n",
       "</style>\n",
       "<table border=\"1\" class=\"dataframe\">\n",
       "  <thead>\n",
       "    <tr style=\"text-align: right;\">\n",
       "      <th></th>\n",
       "      <th>Tempo (s)</th>\n",
       "      <th>std</th>\n",
       "    </tr>\n",
       "  </thead>\n",
       "  <tbody>\n",
       "    <tr>\n",
       "      <th>25</th>\n",
       "      <td>9625.666667</td>\n",
       "      <td>0.942809</td>\n",
       "    </tr>\n",
       "    <tr>\n",
       "      <th>50</th>\n",
       "      <td>15133.333333</td>\n",
       "      <td>644.174062</td>\n",
       "    </tr>\n",
       "    <tr>\n",
       "      <th>100</th>\n",
       "      <td>26204.666667</td>\n",
       "      <td>17.152907</td>\n",
       "    </tr>\n",
       "    <tr>\n",
       "      <th>200</th>\n",
       "      <td>48294.666667</td>\n",
       "      <td>29.769485</td>\n",
       "    </tr>\n",
       "    <tr>\n",
       "      <th>400</th>\n",
       "      <td>92558.666667</td>\n",
       "      <td>57.586650</td>\n",
       "    </tr>\n",
       "  </tbody>\n",
       "</table>\n",
       "</div>"
      ],
      "text/plain": [
       "        Tempo (s)         std\n",
       "25    9625.666667    0.942809\n",
       "50   15133.333333  644.174062\n",
       "100  26204.666667   17.152907\n",
       "200  48294.666667   29.769485\n",
       "400  92558.666667   57.586650"
      ]
     },
     "execution_count": 22,
     "metadata": {},
     "output_type": "execute_result"
    }
   ],
   "source": [
    "stats = epochs_df.applymap(pd.np.average)\n",
    "stats['std'] = epochs_df.applymap(pd.np.std)\n",
    "stats"
   ]
  },
  {
   "cell_type": "code",
   "execution_count": null,
   "metadata": {},
   "outputs": [],
   "source": []
  }
 ],
 "metadata": {
  "kernelspec": {
   "display_name": "Python 3",
   "language": "python",
   "name": "python3"
  },
  "language_info": {
   "codemirror_mode": {
    "name": "ipython",
    "version": 3
   },
   "file_extension": ".py",
   "mimetype": "text/x-python",
   "name": "python",
   "nbconvert_exporter": "python",
   "pygments_lexer": "ipython3",
   "version": "3.6.6"
  }
 },
 "nbformat": 4,
 "nbformat_minor": 2
}
