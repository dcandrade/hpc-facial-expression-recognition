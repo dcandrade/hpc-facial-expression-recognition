{
 "cells": [
  {
   "cell_type": "code",
   "execution_count": 1,
   "metadata": {},
   "outputs": [],
   "source": [
    "import pandas as pd\n",
    "import matplotlib.pyplot as plt\n",
    "%matplotlib inline"
   ]
  },
  {
   "cell_type": "code",
   "execution_count": 2,
   "metadata": {},
   "outputs": [],
   "source": [
    "metrics = ['f1', 'recall', 'cost', 'precision', 'accuracy']\n",
    "paths = {\n",
    "    'size-scalability': '../results/size-scalability',\n",
    "    'local-work-scalability': '../results/local-work-scalability',\n",
    "    'global-work-scalability': '../results/global-work-scalability',\n",
    "}\n",
    "\n",
    "prefix = 'time'\n",
    "experiments = {k:{} for k in paths}"
   ]
  },
  {
   "cell_type": "code",
   "execution_count": 3,
   "metadata": {},
   "outputs": [],
   "source": [
    "def process_time(file):\n",
    "    with open(file) as time_file:\n",
    "        lines = time_file.readlines()\n",
    "        \"\"\"        lines = [line.strip() for line in lines if len(line) > 2]\n",
    "        times = {\n",
    "            'sys':[line for line in lines if 'sys' in line],\n",
    "            'user' : [line for line in lines if 'user' in line],\n",
    "            'real': [line for line in lines if 'real' in line]\n",
    "        }\n",
    "        \n",
    "        for key in times:\n",
    "            values = times[key]\n",
    "            values = [v.split('\\t')[1] for v in values]\n",
    "            values = [float(v.split('m')[0])*60 + float(v.split('m')[1][:-1].replace(',', '.')) for v in values]\n",
    "            times[key] = values\"\"\"\n",
    "    return [int(time) for time in lines]\n",
    "#process_time(\"/home/dcandrade/Documents/Subjects/Computação de Alto Desempenho/hpc-facial-expression-recognition/results/size-scalability/500/time.txt\")"
   ]
  },
  {
   "cell_type": "code",
   "execution_count": 4,
   "metadata": {},
   "outputs": [],
   "source": [
    "from os import walk\n",
    "for experiment_type in paths:\n",
    "    for (dirpath, dirnames, filenames) in walk(paths[experiment_type]):\n",
    "        for file in filenames:\n",
    "            if file.startswith(prefix):\n",
    "                subtype = dirpath.split('/')[-1]\n",
    "                experiment_file = paths[experiment_type]+'/'+subtype+'/'+file\n",
    "                subtype_files = experiments[experiment_type].get(subtype,[])\n",
    "                #subtype_files.append(pd.read_csv(experiment_file, header=0))\n",
    "                experiments[experiment_type][subtype] = process_time(experiment_file)"
   ]
  },
  {
   "cell_type": "code",
   "execution_count": 5,
   "metadata": {},
   "outputs": [
    {
     "data": {
      "text/html": [
       "<div>\n",
       "<style scoped>\n",
       "    .dataframe tbody tr th:only-of-type {\n",
       "        vertical-align: middle;\n",
       "    }\n",
       "\n",
       "    .dataframe tbody tr th {\n",
       "        vertical-align: top;\n",
       "    }\n",
       "\n",
       "    .dataframe thead th {\n",
       "        text-align: right;\n",
       "    }\n",
       "</style>\n",
       "<table border=\"1\" class=\"dataframe\">\n",
       "  <thead>\n",
       "    <tr style=\"text-align: right;\">\n",
       "      <th></th>\n",
       "      <th>0</th>\n",
       "    </tr>\n",
       "  </thead>\n",
       "  <tbody>\n",
       "    <tr>\n",
       "      <th>5450</th>\n",
       "      <td>33.067</td>\n",
       "    </tr>\n",
       "    <tr>\n",
       "      <th>8175</th>\n",
       "      <td>33.087</td>\n",
       "    </tr>\n",
       "    <tr>\n",
       "      <th>10900</th>\n",
       "      <td>32.718</td>\n",
       "    </tr>\n",
       "  </tbody>\n",
       "</table>\n",
       "</div>"
      ],
      "text/plain": [
       "            0\n",
       "5450   33.067\n",
       "8175   33.087\n",
       "10900  32.718"
      ]
     },
     "execution_count": 5,
     "metadata": {},
     "output_type": "execute_result"
    }
   ],
   "source": [
    "size_df = pd.DataFrame(experiments['size-scalability']).transpose().rename(index=int).sort_index()\n",
    "size_df = size_df/1000 # ms to s\n",
    "size_df"
   ]
  },
  {
   "cell_type": "code",
   "execution_count": 6,
   "metadata": {},
   "outputs": [
    {
     "data": {
      "text/html": [
       "<div>\n",
       "<style scoped>\n",
       "    .dataframe tbody tr th:only-of-type {\n",
       "        vertical-align: middle;\n",
       "    }\n",
       "\n",
       "    .dataframe tbody tr th {\n",
       "        vertical-align: top;\n",
       "    }\n",
       "\n",
       "    .dataframe thead th {\n",
       "        text-align: right;\n",
       "    }\n",
       "</style>\n",
       "<table border=\"1\" class=\"dataframe\">\n",
       "  <thead>\n",
       "    <tr style=\"text-align: right;\">\n",
       "      <th></th>\n",
       "      <th>Tempo GPU</th>\n",
       "    </tr>\n",
       "  </thead>\n",
       "  <tbody>\n",
       "    <tr>\n",
       "      <th>5450</th>\n",
       "      <td>33.067</td>\n",
       "    </tr>\n",
       "    <tr>\n",
       "      <th>8175</th>\n",
       "      <td>33.087</td>\n",
       "    </tr>\n",
       "    <tr>\n",
       "      <th>10900</th>\n",
       "      <td>32.718</td>\n",
       "    </tr>\n",
       "  </tbody>\n",
       "</table>\n",
       "</div>"
      ],
      "text/plain": [
       "       Tempo GPU\n",
       "5450      33.067\n",
       "8175      33.087\n",
       "10900     32.718"
      ]
     },
     "execution_count": 6,
     "metadata": {},
     "output_type": "execute_result"
    }
   ],
   "source": [
    "size_df = pd.DataFrame(size_df.apply(lambda x: pd.np.average(sorted(x)), axis=1))\n",
    "size_df = size_df.rename(columns={0:'Tempo GPU'}).sort_index()\n",
    "size_df"
   ]
  },
  {
   "cell_type": "code",
   "execution_count": 7,
   "metadata": {},
   "outputs": [],
   "source": [
    "#size_df.apply(pd.np.std, axis=1)"
   ]
  },
  {
   "cell_type": "code",
   "execution_count": 8,
   "metadata": {},
   "outputs": [],
   "source": [
    "#size_df.apply(pd.np.average)"
   ]
  },
  {
   "cell_type": "code",
   "execution_count": 9,
   "metadata": {},
   "outputs": [
    {
     "data": {
      "text/html": [
       "<div>\n",
       "<style scoped>\n",
       "    .dataframe tbody tr th:only-of-type {\n",
       "        vertical-align: middle;\n",
       "    }\n",
       "\n",
       "    .dataframe tbody tr th {\n",
       "        vertical-align: top;\n",
       "    }\n",
       "\n",
       "    .dataframe thead th {\n",
       "        text-align: right;\n",
       "    }\n",
       "</style>\n",
       "<table border=\"1\" class=\"dataframe\">\n",
       "  <thead>\n",
       "    <tr style=\"text-align: right;\">\n",
       "      <th></th>\n",
       "      <th>Tempo Serial</th>\n",
       "    </tr>\n",
       "    <tr>\n",
       "      <th>Tamanho do Conjunto de Treino</th>\n",
       "      <th></th>\n",
       "    </tr>\n",
       "  </thead>\n",
       "  <tbody>\n",
       "    <tr>\n",
       "      <th>5450</th>\n",
       "      <td>612.203</td>\n",
       "    </tr>\n",
       "    <tr>\n",
       "      <th>8175</th>\n",
       "      <td>947.457</td>\n",
       "    </tr>\n",
       "    <tr>\n",
       "      <th>10900</th>\n",
       "      <td>1457.182</td>\n",
       "    </tr>\n",
       "  </tbody>\n",
       "</table>\n",
       "</div>"
      ],
      "text/plain": [
       "                               Tempo Serial\n",
       "Tamanho do Conjunto de Treino              \n",
       "5450                                612.203\n",
       "8175                                947.457\n",
       "10900                              1457.182"
      ]
     },
     "execution_count": 9,
     "metadata": {},
     "output_type": "execute_result"
    }
   ],
   "source": [
    "serial_size = pd.read_csv(\"TEMPOSERIAL.csv\", index_col=\"Tamanho do Conjunto de Treino\") / 1000\n",
    "serial_size"
   ]
  },
  {
   "cell_type": "code",
   "execution_count": 10,
   "metadata": {},
   "outputs": [
    {
     "data": {
      "text/html": [
       "<div>\n",
       "<style scoped>\n",
       "    .dataframe tbody tr th:only-of-type {\n",
       "        vertical-align: middle;\n",
       "    }\n",
       "\n",
       "    .dataframe tbody tr th {\n",
       "        vertical-align: top;\n",
       "    }\n",
       "\n",
       "    .dataframe thead th {\n",
       "        text-align: right;\n",
       "    }\n",
       "</style>\n",
       "<table border=\"1\" class=\"dataframe\">\n",
       "  <thead>\n",
       "    <tr style=\"text-align: right;\">\n",
       "      <th></th>\n",
       "      <th>Tempo GPU</th>\n",
       "      <th>Tempo Serial</th>\n",
       "    </tr>\n",
       "    <tr>\n",
       "      <th>Tamanho do Conjunto de Treino</th>\n",
       "      <th></th>\n",
       "      <th></th>\n",
       "    </tr>\n",
       "  </thead>\n",
       "  <tbody>\n",
       "    <tr>\n",
       "      <th>5450</th>\n",
       "      <td>33.067</td>\n",
       "      <td>612.203</td>\n",
       "    </tr>\n",
       "    <tr>\n",
       "      <th>8175</th>\n",
       "      <td>33.087</td>\n",
       "      <td>947.457</td>\n",
       "    </tr>\n",
       "    <tr>\n",
       "      <th>10900</th>\n",
       "      <td>32.718</td>\n",
       "      <td>1457.182</td>\n",
       "    </tr>\n",
       "  </tbody>\n",
       "</table>\n",
       "</div>"
      ],
      "text/plain": [
       "                               Tempo GPU  Tempo Serial\n",
       "Tamanho do Conjunto de Treino                         \n",
       "5450                              33.067       612.203\n",
       "8175                              33.087       947.457\n",
       "10900                             32.718      1457.182"
      ]
     },
     "execution_count": 10,
     "metadata": {},
     "output_type": "execute_result"
    }
   ],
   "source": [
    "size_df = size_df.applymap(pd.np.average)\n",
    "df = pd.concat([size_df, serial_size], axis=1)\n",
    "df"
   ]
  },
  {
   "cell_type": "code",
   "execution_count": 11,
   "metadata": {},
   "outputs": [
    {
     "data": {
      "image/png": "[encoded data removed]",
      "text/plain": [
       "<Figure size 432x288 with 1 Axes>"
      ]
     },
     "metadata": {
      "needs_background": "light"
     },
     "output_type": "display_data"
    }
   ],
   "source": [
    "plot = df.plot()\n",
    "plot.set_title(\"Escalabilidade\\nTempo de Execução Variando o Tamanho do Conjunto de Treino\")\n",
    "plot.set_xlabel(\"Tamanho do Dataset\")\n",
    "plot.set_ylabel(\"Tempo de Execução (s)\")\n",
    "plt.savefig(paths['size-scalability']+\"/size-scalability.eps\", format='eps')"
   ]
  },
  {
   "cell_type": "code",
   "execution_count": 12,
   "metadata": {},
   "outputs": [
    {
     "data": {
      "text/plain": [
       "Int64Index([5450, 8175, 10900], dtype='int64')"
      ]
     },
     "execution_count": 12,
     "metadata": {},
     "output_type": "execute_result"
    }
   ],
   "source": [
    "stats = size_df.applymap(pd.np.average)\n",
    "stats['std'] = size_df.applymap(pd.np.std)\n",
    "stats.index"
   ]
  },
  {
   "cell_type": "code",
   "execution_count": 13,
   "metadata": {},
   "outputs": [
    {
     "data": {
      "text/plain": [
       "16     [32.678]\n",
       "32     [32.762]\n",
       "64     [32.833]\n",
       "128    [32.871]\n",
       "256    [32.917]\n",
       "Name: Tempo(s), dtype: object"
      ]
     },
     "execution_count": 13,
     "metadata": {},
     "output_type": "execute_result"
    }
   ],
   "source": [
    "size_df = pd.DataFrame(experiments['local-work-scalability']).transpose().rename(index=int).sort_index()\n",
    "size_df = size_df/1000 # ms to s\n",
    "size_df = size_df.apply(pd.np.sort)\n",
    "size_df['Tempo(s)'] = size_df.values.tolist()\n",
    "size_df = size_df['Tempo(s)']\n",
    "size_df = size_df.apply(lambda x: pd.np.sort(x))\n",
    "size_df"
   ]
  },
  {
   "cell_type": "code",
   "execution_count": 14,
   "metadata": {},
   "outputs": [
    {
     "data": {
      "text/plain": [
       "Text(0, 0.5, 'Tempo (s)')"
      ]
     },
     "execution_count": 14,
     "metadata": {},
     "output_type": "execute_result"
    },
    {
     "data": {
      "image/png": "[encoded data removed]",
      "text/plain": [
       "<Figure size 432x288 with 1 Axes>"
      ]
     },
     "metadata": {
      "needs_background": "light"
     },
     "output_type": "display_data"
    }
   ],
   "source": [
    "plot = size_df.apply(pd.np.average).plot()\n",
    "plot.set_title(\"Escalabilidade\\nTempo de Execução Variando o Tamanho o Local Work Size\")\n",
    "plot.set_xlabel(\"# Local Work Size\")\n",
    "plot.set_ylabel(\"Tempo (s)\")\n",
    "#plt.savefig(paths['local-work-scalability']+\"/local-work-scalability.eps\", format='eps')"
   ]
  },
  {
   "cell_type": "code",
   "execution_count": null,
   "metadata": {},
   "outputs": [],
   "source": []
  }
 ],
 "metadata": {
  "kernelspec": {
   "display_name": "Python 3",
   "language": "python",
   "name": "python3"
  },
  "language_info": {
   "codemirror_mode": {
    "name": "ipython",
    "version": 3
   },
   "file_extension": ".py",
   "mimetype": "text/x-python",
   "name": "python",
   "nbconvert_exporter": "python",
   "pygments_lexer": "ipython3",
   "version": "3.6.6"
  }
 },
 "nbformat": 4,
 "nbformat_minor": 2
}
