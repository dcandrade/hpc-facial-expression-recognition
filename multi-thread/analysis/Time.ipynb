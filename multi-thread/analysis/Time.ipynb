{
 "cells": [
  {
   "cell_type": "code",
   "execution_count": 5,
   "metadata": {},
   "outputs": [],
   "source": [
    "import pandas as pd\n",
    "import matplotlib.pyplot as plt\n",
    "%matplotlib inline"
   ]
  },
  {
   "cell_type": "code",
   "execution_count": 6,
   "metadata": {},
   "outputs": [],
   "source": [
    "metrics = ['f1', 'recall', 'cost', 'precision', 'accuracy']\n",
    "paths = {\n",
    "    'size-scalability': '../results/size-scalability',\n",
    "    'thread-scalability': '../results/thread-scalability'\n",
    "}\n",
    "\n",
    "prefix = 'time'\n",
    "experiments = {k:{} for k in paths}"
   ]
  },
  {
   "cell_type": "code",
   "execution_count": 7,
   "metadata": {},
   "outputs": [],
   "source": [
    "def process_time(file):\n",
    "    with open(file) as time_file:\n",
    "        lines = time_file.readlines()\n",
    "        \"\"\"        lines = [line.strip() for line in lines if len(line) > 2]\n",
    "        times = {\n",
    "            'sys':[line for line in lines if 'sys' in line],\n",
    "            'user' : [line for line in lines if 'user' in line],\n",
    "            'real': [line for line in lines if 'real' in line]\n",
    "        }\n",
    "        \n",
    "        for key in times:\n",
    "            values = times[key]\n",
    "            values = [v.split('\\t')[1] for v in values]\n",
    "            values = [float(v.split('m')[0])*60 + float(v.split('m')[1][:-1].replace(',', '.')) for v in values]\n",
    "            times[key] = values\"\"\"\n",
    "    return [int(time) for time in lines]\n",
    "#process_time(\"/home/dcandrade/Documents/Subjects/Computação de Alto Desempenho/hpc-facial-expression-recognition/results/size-scalability/500/time.txt\")"
   ]
  },
  {
   "cell_type": "code",
   "execution_count": 8,
   "metadata": {},
   "outputs": [],
   "source": [
    "from os import walk\n",
    "for experiment_type in paths:\n",
    "    for (dirpath, dirnames, filenames) in walk(paths[experiment_type]):\n",
    "        for file in filenames:\n",
    "            if file.startswith(prefix):\n",
    "                subtype = dirpath.split('/')[-1]\n",
    "                experiment_file = paths[experiment_type]+'/'+subtype+'/'+file\n",
    "                subtype_files = experiments[experiment_type].get(subtype,[])\n",
    "                #subtype_files.append(pd.read_csv(experiment_file, header=0))\n",
    "                experiments[experiment_type][subtype] = process_time(experiment_file)"
   ]
  },
  {
   "cell_type": "code",
   "execution_count": 9,
   "metadata": {},
   "outputs": [],
   "source": [
    "size_df = pd.DataFrame(experiments['size-scalability']).transpose().rename(index=int).sort_index()\n",
    "epochs_df = pd.DataFrame(experiments['thread-scalability']).transpose().rename(index=int)"
   ]
  },
  {
   "cell_type": "code",
   "execution_count": 10,
   "metadata": {},
   "outputs": [
    {
     "data": {
      "text/html": [
       "<div>\n",
       "<style scoped>\n",
       "    .dataframe tbody tr th:only-of-type {\n",
       "        vertical-align: middle;\n",
       "    }\n",
       "\n",
       "    .dataframe tbody tr th {\n",
       "        vertical-align: top;\n",
       "    }\n",
       "\n",
       "    .dataframe thead th {\n",
       "        text-align: right;\n",
       "    }\n",
       "</style>\n",
       "<table border=\"1\" class=\"dataframe\">\n",
       "  <thead>\n",
       "    <tr style=\"text-align: right;\">\n",
       "      <th></th>\n",
       "      <th>Tempo (s)</th>\n",
       "    </tr>\n",
       "  </thead>\n",
       "  <tbody>\n",
       "    <tr>\n",
       "      <th>5865</th>\n",
       "      <td>[499094, 499299, 499432]</td>\n",
       "    </tr>\n",
       "    <tr>\n",
       "      <th>11730</th>\n",
       "      <td>[909566, 909933, 910083]</td>\n",
       "    </tr>\n",
       "    <tr>\n",
       "      <th>15640</th>\n",
       "      <td>[1389946, 1391306, 1393508]</td>\n",
       "    </tr>\n",
       "  </tbody>\n",
       "</table>\n",
       "</div>"
      ],
      "text/plain": [
       "                         Tempo (s)\n",
       "5865      [499094, 499299, 499432]\n",
       "11730     [909566, 909933, 910083]\n",
       "15640  [1389946, 1391306, 1393508]"
      ]
     },
     "execution_count": 10,
     "metadata": {},
     "output_type": "execute_result"
    }
   ],
   "source": [
    "size_df = pd.DataFrame(size_df.apply(sorted, axis=1))\n",
    "size_df = size_df.applymap(lambda x: x[1:-1]).rename(columns={0:'Tempo (s)'}).sort_index()\n",
    "size_df"
   ]
  },
  {
   "cell_type": "code",
   "execution_count": 13,
   "metadata": {},
   "outputs": [
    {
     "data": {
      "image/png": "[encoded data removed]",
      "text/plain": [
       "<Figure size 432x288 with 1 Axes>"
      ]
     },
     "metadata": {
      "needs_background": "light"
     },
     "output_type": "display_data"
    }
   ],
   "source": [
    "plot = size_df.applymap(pd.np.average).plot(legend=False)\n",
    "plot.set_title(\"Escalabilidade\\nTempo de Execução Variando o Tamanho do Conjunto de Treino\")\n",
    "plot.set_xlabel(\"Tamanho do Dataset\")\n",
    "plot.set_ylabel(\"Tempo (ms)\")\n",
    "plt.savefig(paths['size-scalability']+\"/size-scalability.eps\", format='eps')"
   ]
  },
  {
   "cell_type": "code",
   "execution_count": 14,
   "metadata": {},
   "outputs": [
    {
     "data": {
      "text/html": [
       "<div>\n",
       "<style scoped>\n",
       "    .dataframe tbody tr th:only-of-type {\n",
       "        vertical-align: middle;\n",
       "    }\n",
       "\n",
       "    .dataframe tbody tr th {\n",
       "        vertical-align: top;\n",
       "    }\n",
       "\n",
       "    .dataframe thead th {\n",
       "        text-align: right;\n",
       "    }\n",
       "</style>\n",
       "<table border=\"1\" class=\"dataframe\">\n",
       "  <thead>\n",
       "    <tr style=\"text-align: right;\">\n",
       "      <th></th>\n",
       "      <th>Tempo (s)</th>\n",
       "    </tr>\n",
       "  </thead>\n",
       "  <tbody>\n",
       "    <tr>\n",
       "      <th>1</th>\n",
       "      <td>[2251906, 2270086, 2284519]</td>\n",
       "    </tr>\n",
       "    <tr>\n",
       "      <th>2</th>\n",
       "      <td>[1436110, 1436250, 1436709]</td>\n",
       "    </tr>\n",
       "    <tr>\n",
       "      <th>3</th>\n",
       "      <td>[1349763, 1352199, 1352422]</td>\n",
       "    </tr>\n",
       "    <tr>\n",
       "      <th>4</th>\n",
       "      <td>[1454572, 1454727, 1455083]</td>\n",
       "    </tr>\n",
       "  </tbody>\n",
       "</table>\n",
       "</div>"
      ],
      "text/plain": [
       "                     Tempo (s)\n",
       "1  [2251906, 2270086, 2284519]\n",
       "2  [1436110, 1436250, 1436709]\n",
       "3  [1349763, 1352199, 1352422]\n",
       "4  [1454572, 1454727, 1455083]"
      ]
     },
     "execution_count": 14,
     "metadata": {},
     "output_type": "execute_result"
    }
   ],
   "source": [
    "epochs_df = pd.DataFrame(epochs_df.apply(sorted, axis=1))\n",
    "epochs_df = epochs_df.applymap(lambda x: x[1:-1]).rename(columns={0:'Tempo (s)'}).sort_index()\n",
    "epochs_df"
   ]
  },
  {
   "cell_type": "code",
   "execution_count": 17,
   "metadata": {},
   "outputs": [
    {
     "data": {
      "image/png": "[encoded data removed]",
      "text/plain": [
       "<Figure size 432x288 with 1 Axes>"
      ]
     },
     "metadata": {
      "needs_background": "light"
     },
     "output_type": "display_data"
    }
   ],
   "source": [
    "plot = epochs_df.applymap(pd.np.average).plot(legend=False)\n",
    "plot.set_title(\"Escalabilidade\\nTempo de Execução Variando o Número de Threads\")\n",
    "plot.set_xlabel(\"# Quantidade de Threads\")\n",
    "plot.set_ylabel(\"Tempo (ms)\")\n",
    "plt.savefig(paths['thread-scalability']+\"/thread-scalability.eps\", format='eps')"
   ]
  },
  {
   "cell_type": "code",
   "execution_count": 18,
   "metadata": {},
   "outputs": [
    {
     "data": {
      "text/html": [
       "<div>\n",
       "<style scoped>\n",
       "    .dataframe tbody tr th:only-of-type {\n",
       "        vertical-align: middle;\n",
       "    }\n",
       "\n",
       "    .dataframe tbody tr th {\n",
       "        vertical-align: top;\n",
       "    }\n",
       "\n",
       "    .dataframe thead th {\n",
       "        text-align: right;\n",
       "    }\n",
       "</style>\n",
       "<table border=\"1\" class=\"dataframe\">\n",
       "  <thead>\n",
       "    <tr style=\"text-align: right;\">\n",
       "      <th></th>\n",
       "      <th>Tempo (s)</th>\n",
       "      <th>std</th>\n",
       "    </tr>\n",
       "  </thead>\n",
       "  <tbody>\n",
       "    <tr>\n",
       "      <th>1</th>\n",
       "      <td>2.268837e+06</td>\n",
       "      <td>13343.461395</td>\n",
       "    </tr>\n",
       "    <tr>\n",
       "      <th>2</th>\n",
       "      <td>1.436356e+06</td>\n",
       "      <td>255.838925</td>\n",
       "    </tr>\n",
       "    <tr>\n",
       "      <th>3</th>\n",
       "      <td>1.351461e+06</td>\n",
       "      <td>1204.348879</td>\n",
       "    </tr>\n",
       "    <tr>\n",
       "      <th>4</th>\n",
       "      <td>1.454794e+06</td>\n",
       "      <td>213.926779</td>\n",
       "    </tr>\n",
       "  </tbody>\n",
       "</table>\n",
       "</div>"
      ],
      "text/plain": [
       "      Tempo (s)           std\n",
       "1  2.268837e+06  13343.461395\n",
       "2  1.436356e+06    255.838925\n",
       "3  1.351461e+06   1204.348879\n",
       "4  1.454794e+06    213.926779"
      ]
     },
     "execution_count": 18,
     "metadata": {},
     "output_type": "execute_result"
    }
   ],
   "source": [
    "stats = epochs_df.applymap(pd.np.average)\n",
    "stats['std'] = epochs_df.applymap(pd.np.std)\n",
    "stats"
   ]
  },
  {
   "cell_type": "code",
   "execution_count": null,
   "metadata": {},
   "outputs": [],
   "source": []
  }
 ],
 "metadata": {
  "kernelspec": {
   "display_name": "Python 3",
   "language": "python",
   "name": "python3"
  },
  "language_info": {
   "codemirror_mode": {
    "name": "ipython",
    "version": 3
   },
   "file_extension": ".py",
   "mimetype": "text/x-python",
   "name": "python",
   "nbconvert_exporter": "python",
   "pygments_lexer": "ipython3",
   "version": "3.6.6"
  }
 },
 "nbformat": 4,
 "nbformat_minor": 2
}
