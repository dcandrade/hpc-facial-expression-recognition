{
 "cells": [
  {
   "cell_type": "code",
   "execution_count": 1,
   "metadata": {},
   "outputs": [],
   "source": [
    "import pandas as pd\n",
    "%matplotlib inline"
   ]
  },
  {
   "cell_type": "code",
   "execution_count": 3,
   "metadata": {},
   "outputs": [],
   "source": [
    "metrics = ['f1', 'recall', 'cost', 'precision', 'time', 'accuracy']\n",
    "paths = {\n",
    "    'size-scalability': '../results/size-scalability',\n",
    "    'epoch-scalability': '../results/epoch-scalability'\n",
    "}\n",
    "\n",
    "prefix = 'time'\n",
    "experiments = {k:{} for k in paths}"
   ]
  },
  {
   "cell_type": "code",
   "execution_count": 40,
   "metadata": {},
   "outputs": [],
   "source": [
    "def process_time(file):\n",
    "    with open(file) as time_file:\n",
    "        lines = time_file.readlines()\n",
    "        lines = [line.strip() for line in lines if len(line) > 2]\n",
    "        times = {\n",
    "            'sys':[line for line in lines if 'sys' in line],\n",
    "            'user' : [line for line in lines if 'user' in line],\n",
    "            'real': [line for line in lines if 'real' in line]\n",
    "        }\n",
    "        \n",
    "        for key in times:\n",
    "            values = times[key]\n",
    "            values = [v.split('\\t')[1] for v in values]\n",
    "            values = [float(v.split('m')[0])*60 + float(v.split('m')[1][:-1].replace(',', '.')) for v in values]\n",
    "            times[key] = values\n",
    "        return times\n",
    "#process_time(\"/home/dcandrade/Documents/Subjects/Computação de Alto Desempenho/hpc-facial-expression-recognition/results/size-scalability/500/time500.txt\")"
   ]
  },
  {
   "cell_type": "code",
   "execution_count": 41,
   "metadata": {},
   "outputs": [],
   "source": [
    "from os import walk\n",
    "for experiment_type in paths:\n",
    "    for (dirpath, dirnames, filenames) in walk(paths[experiment_type]):\n",
    "        for file in filenames:\n",
    "            if file.startswith(prefix):\n",
    "                subtype = dirpath.split('/')[-1]\n",
    "                experiment_file = paths[experiment_type]+'/'+subtype+'/'+file\n",
    "                subtype_files = experiments[experiment_type].get(subtype,[])\n",
    "                #subtype_files.append(pd.read_csv(experiment_file, header=0))\n",
    "                experiments[experiment_type][subtype] = process_time(experiment_file)"
   ]
  },
  {
   "cell_type": "code",
   "execution_count": 46,
   "metadata": {},
   "outputs": [],
   "source": [
    "size_df = pd.DataFrame(experiments['size-scalability'])\n",
    "epochs_df = pd.DataFrame(experiments['epoch-scalability'])"
   ]
  },
  {
   "cell_type": "code",
   "execution_count": 47,
   "metadata": {},
   "outputs": [
    {
     "data": {
      "text/html": [
       "<div>\n",
       "<style scoped>\n",
       "    .dataframe tbody tr th:only-of-type {\n",
       "        vertical-align: middle;\n",
       "    }\n",
       "\n",
       "    .dataframe tbody tr th {\n",
       "        vertical-align: top;\n",
       "    }\n",
       "\n",
       "    .dataframe thead th {\n",
       "        text-align: right;\n",
       "    }\n",
       "</style>\n",
       "<table border=\"1\" class=\"dataframe\">\n",
       "  <thead>\n",
       "    <tr style=\"text-align: right;\">\n",
       "      <th></th>\n",
       "      <th>500</th>\n",
       "      <th>2k</th>\n",
       "      <th>4k</th>\n",
       "      <th>8k</th>\n",
       "      <th>1k</th>\n",
       "    </tr>\n",
       "  </thead>\n",
       "  <tbody>\n",
       "    <tr>\n",
       "      <th>real</th>\n",
       "      <td>[4.994, 5.278, 5.15, 5.179, 5.66]</td>\n",
       "      <td>[10.171, 8.974, 9.208, 9.037, 9.218]</td>\n",
       "      <td>[14.847, 14.893, 14.742, 15.428, 15.051]</td>\n",
       "      <td>[26.605, 26.384, 25.476, 25.718, 25.88]</td>\n",
       "      <td>[6.493, 6.613, 7.142, 6.66, 6.861]</td>\n",
       "    </tr>\n",
       "    <tr>\n",
       "      <th>sys</th>\n",
       "      <td>[0.087, 0.076, 0.08, 0.053, 0.076]</td>\n",
       "      <td>[0.083, 0.063, 0.08, 0.07, 0.096]</td>\n",
       "      <td>[0.083, 0.08, 0.107, 0.093, 0.083]</td>\n",
       "      <td>[0.126, 0.1, 0.086, 0.1, 0.09]</td>\n",
       "      <td>[0.06, 0.093, 0.1, 0.084, 0.096]</td>\n",
       "    </tr>\n",
       "    <tr>\n",
       "      <th>user</th>\n",
       "      <td>[4.901, 5.172, 5.062, 5.118, 5.569]</td>\n",
       "      <td>[10.071, 8.893, 9.105, 8.951, 9.098]</td>\n",
       "      <td>[14.707, 14.781, 14.606, 15.297, 14.93]</td>\n",
       "      <td>[26.4, 26.195, 25.325, 25.552, 25.721]</td>\n",
       "      <td>[6.424, 6.506, 7.025, 6.566, 6.747]</td>\n",
       "    </tr>\n",
       "  </tbody>\n",
       "</table>\n",
       "</div>"
      ],
      "text/plain": [
       "                                      500  \\\n",
       "real    [4.994, 5.278, 5.15, 5.179, 5.66]   \n",
       "sys    [0.087, 0.076, 0.08, 0.053, 0.076]   \n",
       "user  [4.901, 5.172, 5.062, 5.118, 5.569]   \n",
       "\n",
       "                                        2k  \\\n",
       "real  [10.171, 8.974, 9.208, 9.037, 9.218]   \n",
       "sys      [0.083, 0.063, 0.08, 0.07, 0.096]   \n",
       "user  [10.071, 8.893, 9.105, 8.951, 9.098]   \n",
       "\n",
       "                                            4k  \\\n",
       "real  [14.847, 14.893, 14.742, 15.428, 15.051]   \n",
       "sys         [0.083, 0.08, 0.107, 0.093, 0.083]   \n",
       "user   [14.707, 14.781, 14.606, 15.297, 14.93]   \n",
       "\n",
       "                                           8k  \\\n",
       "real  [26.605, 26.384, 25.476, 25.718, 25.88]   \n",
       "sys            [0.126, 0.1, 0.086, 0.1, 0.09]   \n",
       "user   [26.4, 26.195, 25.325, 25.552, 25.721]   \n",
       "\n",
       "                                       1k  \n",
       "real   [6.493, 6.613, 7.142, 6.66, 6.861]  \n",
       "sys      [0.06, 0.093, 0.1, 0.084, 0.096]  \n",
       "user  [6.424, 6.506, 7.025, 6.566, 6.747]  "
      ]
     },
     "execution_count": 47,
     "metadata": {},
     "output_type": "execute_result"
    }
   ],
   "source": [
    "size_df"
   ]
  },
  {
   "cell_type": "code",
   "execution_count": null,
   "metadata": {},
   "outputs": [],
   "source": [
    "si"
   ]
  }
 ],
 "metadata": {
  "kernelspec": {
   "display_name": "Python 3",
   "language": "python",
   "name": "python3"
  },
  "language_info": {
   "codemirror_mode": {
    "name": "ipython",
    "version": 3
   },
   "file_extension": ".py",
   "mimetype": "text/x-python",
   "name": "python",
   "nbconvert_exporter": "python",
   "pygments_lexer": "ipython3",
   "version": "3.6.6"
  }
 },
 "nbformat": 4,
 "nbformat_minor": 2
}
