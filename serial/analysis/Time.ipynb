{
 "cells": [
  {
   "cell_type": "code",
   "execution_count": 1,
   "metadata": {},
   "outputs": [],
   "source": [
    "import pandas as pd\n",
    "import matplotlib.pyplot as plt\n",
    "%matplotlib inline"
   ]
  },
  {
   "cell_type": "code",
   "execution_count": 2,
   "metadata": {},
   "outputs": [],
   "source": [
    "metrics = ['f1', 'recall', 'cost', 'precision', 'accuracy']\n",
    "paths = {\n",
    "    'size-scalability': '../results/size-scalability',\n",
    "    'epoch-scalability': '../results/epoch-scalability'\n",
    "}\n",
    "\n",
    "prefix = 'time'\n",
    "experiments = {k:{} for k in paths}"
   ]
  },
  {
   "cell_type": "code",
   "execution_count": 4,
   "metadata": {},
   "outputs": [],
   "source": [
    "def process_time(file):\n",
    "    with open(file) as time_file:\n",
    "        lines = time_file.readlines()\n",
    "        \"\"\"        lines = [line.strip() for line in lines if len(line) > 2]\n",
    "        times = {\n",
    "            'sys':[line for line in lines if 'sys' in line],\n",
    "            'user' : [line for line in lines if 'user' in line],\n",
    "            'real': [line for line in lines if 'real' in line]\n",
    "        }\n",
    "        \n",
    "        for key in times:\n",
    "            values = times[key]\n",
    "            values = [v.split('\\t')[1] for v in values]\n",
    "            values = [float(v.split('m')[0])*60 + float(v.split('m')[1][:-1].replace(',', '.')) for v in values]\n",
    "            times[key] = values\"\"\"\n",
    "    return [int(time) for time in lines]\n",
    "#process_time(\"/home/dcandrade/Documents/Subjects/Computação de Alto Desempenho/hpc-facial-expression-recognition/results/size-scalability/500/time.txt\")"
   ]
  },
  {
   "cell_type": "code",
   "execution_count": 5,
   "metadata": {},
   "outputs": [],
   "source": [
    "from os import walk\n",
    "for experiment_type in paths:\n",
    "    for (dirpath, dirnames, filenames) in walk(paths[experiment_type]):\n",
    "        for file in filenames:\n",
    "            if file.startswith(prefix):\n",
    "                subtype = dirpath.split('/')[-1]\n",
    "                experiment_file = paths[experiment_type]+'/'+subtype+'/'+file\n",
    "                subtype_files = experiments[experiment_type].get(subtype,[])\n",
    "                #subtype_files.append(pd.read_csv(experiment_file, header=0))\n",
    "                experiments[experiment_type][subtype] = process_time(experiment_file)"
   ]
  },
  {
   "cell_type": "code",
   "execution_count": 7,
   "metadata": {},
   "outputs": [],
   "source": [
    "size_df = pd.DataFrame(experiments['size-scalability']).transpose().rename(index=int).sort_index()\n",
    "epochs_df = pd.DataFrame(experiments['epoch-scalability']).transpose().rename(index=int)"
   ]
  },
  {
   "cell_type": "code",
   "execution_count": 8,
   "metadata": {},
   "outputs": [
    {
     "data": {
      "text/html": [
       "<div>\n",
       "<style scoped>\n",
       "    .dataframe tbody tr th:only-of-type {\n",
       "        vertical-align: middle;\n",
       "    }\n",
       "\n",
       "    .dataframe tbody tr th {\n",
       "        vertical-align: top;\n",
       "    }\n",
       "\n",
       "    .dataframe thead th {\n",
       "        text-align: right;\n",
       "    }\n",
       "</style>\n",
       "<table border=\"1\" class=\"dataframe\">\n",
       "  <thead>\n",
       "    <tr style=\"text-align: right;\">\n",
       "      <th></th>\n",
       "      <th>Tempo (s)</th>\n",
       "    </tr>\n",
       "  </thead>\n",
       "  <tbody>\n",
       "    <tr>\n",
       "      <th>977</th>\n",
       "      <td>[89824, 91074, 91090]</td>\n",
       "    </tr>\n",
       "    <tr>\n",
       "      <th>1955</th>\n",
       "      <td>[138355, 144202, 163612]</td>\n",
       "    </tr>\n",
       "    <tr>\n",
       "      <th>3910</th>\n",
       "      <td>[230231, 230317, 239399]</td>\n",
       "    </tr>\n",
       "    <tr>\n",
       "      <th>7820</th>\n",
       "      <td>[415234, 419664, 421353]</td>\n",
       "    </tr>\n",
       "    <tr>\n",
       "      <th>15640</th>\n",
       "      <td>[969814, 971509, 1201093]</td>\n",
       "    </tr>\n",
       "  </tbody>\n",
       "</table>\n",
       "</div>"
      ],
      "text/plain": [
       "                       Tempo (s)\n",
       "977        [89824, 91074, 91090]\n",
       "1955    [138355, 144202, 163612]\n",
       "3910    [230231, 230317, 239399]\n",
       "7820    [415234, 419664, 421353]\n",
       "15640  [969814, 971509, 1201093]"
      ]
     },
     "execution_count": 8,
     "metadata": {},
     "output_type": "execute_result"
    }
   ],
   "source": [
    "size_df = pd.DataFrame(size_df.apply(sorted, axis=1))\n",
    "size_df = size_df.applymap(lambda x: x[1:-1]).rename(columns={0:'Tempo (s)'}).sort_index()\n",
    "size_df"
   ]
  },
  {
   "cell_type": "code",
   "execution_count": 9,
   "metadata": {},
   "outputs": [
    {
     "data": {
      "image/png": "[encoded data removed]",
      "text/plain": [
       "<Figure size 432x288 with 1 Axes>"
      ]
     },
     "metadata": {
      "needs_background": "light"
     },
     "output_type": "display_data"
    }
   ],
   "source": [
    "plot = size_df.applymap(pd.np.average).plot(legend=False)\n",
    "plot.set_title(\"Escalabilidade\\nTempo de Execução Variando o Tamanho do Conjunto de Treino\")\n",
    "plot.set_xlabel(\"Tamanho do Dataset\")\n",
    "plot.set_ylabel(\"Tempo (ms)\")\n",
    "plt.savefig(paths['size-scalability']+\"/size-scalability.eps\", format='eps')"
   ]
  },
  {
   "cell_type": "code",
   "execution_count": 10,
   "metadata": {},
   "outputs": [
    {
     "data": {
      "text/plain": [
       "Int64Index([977, 1955, 3910, 7820, 15640], dtype='int64')"
      ]
     },
     "execution_count": 10,
     "metadata": {},
     "output_type": "execute_result"
    }
   ],
   "source": [
    "stats = size_df.applymap(pd.np.average)\n",
    "stats['std'] = size_df.applymap(pd.np.std)\n",
    "stats.index"
   ]
  },
  {
   "cell_type": "code",
   "execution_count": 11,
   "metadata": {},
   "outputs": [
    {
     "data": {
      "text/plain": [
       "array([64.69085913])"
      ]
     },
     "execution_count": 11,
     "metadata": {},
     "output_type": "execute_result"
    }
   ],
   "source": [
    "from sklearn import linear_model\n",
    "lm = linear_model.LinearRegression()\n",
    "model = lm.fit(pd.np.array(stats.index.tolist()).reshape(-1, 1),stats['Tempo (s)'])\n",
    "model.coef_"
   ]
  },
  {
   "cell_type": "code",
   "execution_count": 12,
   "metadata": {},
   "outputs": [
    {
     "data": {
      "text/html": [
       "<div>\n",
       "<style scoped>\n",
       "    .dataframe tbody tr th:only-of-type {\n",
       "        vertical-align: middle;\n",
       "    }\n",
       "\n",
       "    .dataframe tbody tr th {\n",
       "        vertical-align: top;\n",
       "    }\n",
       "\n",
       "    .dataframe thead th {\n",
       "        text-align: right;\n",
       "    }\n",
       "</style>\n",
       "<table border=\"1\" class=\"dataframe\">\n",
       "  <thead>\n",
       "    <tr style=\"text-align: right;\">\n",
       "      <th></th>\n",
       "      <th>Tempo (s)</th>\n",
       "    </tr>\n",
       "  </thead>\n",
       "  <tbody>\n",
       "    <tr>\n",
       "      <th>50</th>\n",
       "      <td>[278785, 282135, 283767]</td>\n",
       "    </tr>\n",
       "    <tr>\n",
       "      <th>100</th>\n",
       "      <td>[498874, 504940, 520511]</td>\n",
       "    </tr>\n",
       "    <tr>\n",
       "      <th>200</th>\n",
       "      <td>[961831, 962424, 991403]</td>\n",
       "    </tr>\n",
       "    <tr>\n",
       "      <th>400</th>\n",
       "      <td>[1864694, 1933436, 2203556]</td>\n",
       "    </tr>\n",
       "    <tr>\n",
       "      <th>800</th>\n",
       "      <td>[163017, 167625, 167687]</td>\n",
       "    </tr>\n",
       "  </tbody>\n",
       "</table>\n",
       "</div>"
      ],
      "text/plain": [
       "                       Tempo (s)\n",
       "50      [278785, 282135, 283767]\n",
       "100     [498874, 504940, 520511]\n",
       "200     [961831, 962424, 991403]\n",
       "400  [1864694, 1933436, 2203556]\n",
       "800     [163017, 167625, 167687]"
      ]
     },
     "execution_count": 12,
     "metadata": {},
     "output_type": "execute_result"
    }
   ],
   "source": [
    "epochs_df = pd.DataFrame(epochs_df.apply(sorted, axis=1))\n",
    "epochs_df = epochs_df.applymap(lambda x: x[1:-1]).rename(columns={0:'Tempo (s)'}).sort_index()\n",
    "epochs_df"
   ]
  },
  {
   "cell_type": "code",
   "execution_count": 13,
   "metadata": {},
   "outputs": [
    {
     "data": {
      "image/png": "[encoded data removed]",
      "text/plain": [
       "<Figure size 432x288 with 1 Axes>"
      ]
     },
     "metadata": {
      "needs_background": "light"
     },
     "output_type": "display_data"
    }
   ],
   "source": [
    "plot = epochs_df.applymap(pd.np.average).plot(legend=False)\n",
    "plot.set_title(\"Escalabilidade\\nTempo de Execução Variando o Número de Épocas de Treinamento\")\n",
    "plot.set_xlabel(\"# Número de Épocas\")\n",
    "plot.set_ylabel(\"Tempo (ms)\")\n",
    "plt.savefig(paths['epoch-scalability']+\"/epoch-scalability.eps\", format='eps')"
   ]
  },
  {
   "cell_type": "code",
   "execution_count": 14,
   "metadata": {},
   "outputs": [
    {
     "data": {
      "text/html": [
       "<div>\n",
       "<style scoped>\n",
       "    .dataframe tbody tr th:only-of-type {\n",
       "        vertical-align: middle;\n",
       "    }\n",
       "\n",
       "    .dataframe tbody tr th {\n",
       "        vertical-align: top;\n",
       "    }\n",
       "\n",
       "    .dataframe thead th {\n",
       "        text-align: right;\n",
       "    }\n",
       "</style>\n",
       "<table border=\"1\" class=\"dataframe\">\n",
       "  <thead>\n",
       "    <tr style=\"text-align: right;\">\n",
       "      <th></th>\n",
       "      <th>Tempo (s)</th>\n",
       "      <th>std</th>\n",
       "    </tr>\n",
       "  </thead>\n",
       "  <tbody>\n",
       "    <tr>\n",
       "      <th>50</th>\n",
       "      <td>2.815623e+05</td>\n",
       "      <td>2073.811520</td>\n",
       "    </tr>\n",
       "    <tr>\n",
       "      <th>100</th>\n",
       "      <td>5.081083e+05</td>\n",
       "      <td>9112.946627</td>\n",
       "    </tr>\n",
       "    <tr>\n",
       "      <th>200</th>\n",
       "      <td>9.718860e+05</td>\n",
       "      <td>13802.726277</td>\n",
       "    </tr>\n",
       "    <tr>\n",
       "      <th>400</th>\n",
       "      <td>2.000562e+06</td>\n",
       "      <td>146256.142134</td>\n",
       "    </tr>\n",
       "    <tr>\n",
       "      <th>800</th>\n",
       "      <td>1.661097e+05</td>\n",
       "      <td>2186.992049</td>\n",
       "    </tr>\n",
       "  </tbody>\n",
       "</table>\n",
       "</div>"
      ],
      "text/plain": [
       "        Tempo (s)            std\n",
       "50   2.815623e+05    2073.811520\n",
       "100  5.081083e+05    9112.946627\n",
       "200  9.718860e+05   13802.726277\n",
       "400  2.000562e+06  146256.142134\n",
       "800  1.661097e+05    2186.992049"
      ]
     },
     "execution_count": 14,
     "metadata": {},
     "output_type": "execute_result"
    }
   ],
   "source": [
    "stats = epochs_df.applymap(pd.np.average)\n",
    "stats['std'] = epochs_df.applymap(pd.np.std)\n",
    "stats"
   ]
  },
  {
   "cell_type": "code",
   "execution_count": null,
   "metadata": {},
   "outputs": [],
   "source": []
  }
 ],
 "metadata": {
  "kernelspec": {
   "display_name": "Python 3",
   "language": "python",
   "name": "python3"
  },
  "language_info": {
   "codemirror_mode": {
    "name": "ipython",
    "version": 3
   },
   "file_extension": ".py",
   "mimetype": "text/x-python",
   "name": "python",
   "nbconvert_exporter": "python",
   "pygments_lexer": "ipython3",
   "version": "3.6.6"
  }
 },
 "nbformat": 4,
 "nbformat_minor": 2
}
